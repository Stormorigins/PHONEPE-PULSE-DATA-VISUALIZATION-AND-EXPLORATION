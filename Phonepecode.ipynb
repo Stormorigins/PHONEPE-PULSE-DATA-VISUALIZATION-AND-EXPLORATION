{
 "cells": [
  {
   "cell_type": "markdown",
   "metadata": {},
   "source": [
    "LIBRARIES"
   ]
  },
  {
   "cell_type": "code",
   "execution_count": 119,
   "metadata": {},
   "outputs": [],
   "source": [
    "import streamlit as st\n",
    "import pandas as pd\n",
    "import pymysql\n",
    "import plotly.express as px\n",
    "from streamlit_option_menu import option_menu\n",
    "import requests\n",
    "import json\n",
    "from PIL import Image"
   ]
  },
  {
   "cell_type": "markdown",
   "metadata": {},
   "source": [
    "SQL CONNECTION"
   ]
  },
  {
   "cell_type": "code",
   "execution_count": 30,
   "metadata": {},
   "outputs": [],
   "source": [
    "#sql connection\n",
    "myconnection = pymysql.connect(host = '127.0.0.1',user='root',passwd='root',database = \"phonepe\",port=3306)\n",
    "cur = myconnection.cursor()"
   ]
  },
  {
   "cell_type": "markdown",
   "metadata": {},
   "source": [
    "DATA FRAMES"
   ]
  },
  {
   "cell_type": "code",
   "execution_count": 31,
   "metadata": {},
   "outputs": [],
   "source": [
    "#Agg_TX_data\n",
    "cur.execute(\"select * from agg_tx\")\n",
    "myconnection.commit()\n",
    "F1 = cur.fetchall()\n",
    "\n",
    "AGG_TX_DF= pd.DataFrame(F1, columns=('States', 'Years', 'Quaters', 'Transaction_type', 'Transaction_count', 'Transaction_amount'))\n",
    "\n",
    "\n",
    "#Agg_US_data\n",
    "cur.execute(\"select * from agg_us\")\n",
    "myconnection.commit()\n",
    "F2 = cur.fetchall()\n",
    "\n",
    "AGG_US_DF= pd.DataFrame(F2, columns=('States', 'Years', 'Quaters', 'Brands', 'Transaction_count', 'Percentage'))\n",
    "\n",
    "\n",
    "#Agg_INS_data\n",
    "cur.execute(\"select * from agg_ins\")\n",
    "myconnection.commit()\n",
    "F3 = cur.fetchall()\n",
    "\n",
    "AGG_INS_DF= pd.DataFrame(F3, columns=('States', 'Years', 'Quaters', 'Transaction_type', 'Transaction_count', 'Transaction_amount'))"
   ]
  },
  {
   "cell_type": "code",
   "execution_count": 32,
   "metadata": {},
   "outputs": [],
   "source": [
    "#MAP_TX_data\n",
    "cur.execute(\"select * from map_tx\")\n",
    "myconnection.commit()\n",
    "F4 = cur.fetchall()\n",
    "\n",
    "MAP_TX_DF= pd.DataFrame(F4, columns=('States', 'Years', 'Quaters', 'Districts', 'Transaction_count', 'Transaction_amount'))\n",
    "\n",
    "\n",
    "#MAP_US_data\n",
    "cur.execute(\"select * from map_user\")\n",
    "myconnection.commit()\n",
    "F5 = cur.fetchall()\n",
    "\n",
    "MAP_US_DF= pd.DataFrame(F5, columns=('States', 'Years', 'Quaters', 'Districts', 'Registered_Users', 'App_Opens'))\n",
    "\n",
    "\n",
    "#MAP_INS_data\n",
    "cur.execute(\"select * from map_ins\")\n",
    "myconnection.commit()\n",
    "F6 = cur.fetchall()\n",
    "\n",
    "MAP_INS_DF= pd.DataFrame(F6, columns=('States', 'Years', 'Quaters', 'Districts', 'Transaction_count', 'Transaction_amount'))\n"
   ]
  },
  {
   "cell_type": "code",
   "execution_count": 33,
   "metadata": {},
   "outputs": [],
   "source": [
    "#TOP_TX_data\n",
    "cur.execute(\"select * from top_tx\")\n",
    "myconnection.commit()\n",
    "F7 = cur.fetchall()\n",
    "\n",
    "TOP_TX_DF= pd.DataFrame(F7, columns=('States', 'Years', 'Quaters', 'Pincodes', 'Transaction_count', 'Transaction_amount'))\n",
    "\n",
    "\n",
    "#TOP_US_data\n",
    "cur.execute(\"select * from top_user\")\n",
    "myconnection.commit()\n",
    "F8 = cur.fetchall()\n",
    "\n",
    "TOP_US_DF= pd.DataFrame(F8, columns=('States', 'Years', 'Quaters', 'Pincodes', 'Registered_Users'))\n",
    "\n",
    "\n",
    "#MAP_INS_data\n",
    "cur.execute(\"select * from top_ins\")\n",
    "myconnection.commit()\n",
    "F9 = cur.fetchall()\n",
    "\n",
    "TOP_INS_DF= pd.DataFrame(F9, columns=('States', 'Years', 'Quaters', 'Pincodes', 'Transaction_count', 'Transaction_amount'))"
   ]
  },
  {
   "cell_type": "markdown",
   "metadata": {},
   "source": [
    "FUNCTIONS"
   ]
  },
  {
   "cell_type": "markdown",
   "metadata": {},
   "source": [
    "TRANSACTION COUNT AND AMOUNT SORTED BY YEAR"
   ]
  },
  {
   "cell_type": "code",
   "execution_count": 34,
   "metadata": {},
   "outputs": [],
   "source": [
    "def TX_count_amount(DF, YR):    \n",
    "    year=DF[DF[\"Years\"]==YR]\n",
    "    year.reset_index(drop= True, inplace = True)\n",
    "\n",
    "    group_year=year.groupby(\"States\")[[\"Transaction_count\",\"Transaction_amount\"]].sum()\n",
    "    group_year.reset_index(inplace = True)\n",
    "\n",
    "    \n",
    "    fig_count= px.bar(group_year, x=\"States\", y=\"Transaction_count\", title=f\"{YR} TRANSACTION COUNT\",\n",
    "                    color_discrete_sequence=px.colors.sequential.Bluyl_r,height=600, width=600)\n",
    "    fig_count.show()\n",
    "   \n",
    "    fig_amount= px.bar(group_year, x=\"States\", y=\"Transaction_amount\", title=f\"{YR} TRANSACTION AMOUNT\",\n",
    "                    color_discrete_sequence=px.colors.sequential.Reds, height=600, width=600)\n",
    "    fig_amount.show()\n",
    "\n",
    "    url=\"https://gist.githubusercontent.com/jbrobst/56c13bbbf9d97d187fea01ca62ea5112/raw/e388c4cae20aa53cb5090210a42ebb9b765c0a36/india_states.geojson\"\n",
    "    data = requests.get(url)\n",
    "    coordinate=json.loads(data.content)\n",
    "    state_names=[]\n",
    "    for i in coordinate[\"features\"]:\n",
    "        A=i[\"properties\"][\"ST_NM\"]\n",
    "        state_names.append(A)\n",
    "\n",
    "    state_names.sort()\n",
    "\n",
    "   \n",
    "\n",
    "    fig_geo_count=px.choropleth(group_year, geojson=coordinate, locations=\"States\",featureidkey=\"properties.ST_NM\",\n",
    "                            color=\"Transaction_count\",color_continuous_scale=\"ylgnbu\",height=500,width=500,\n",
    "                            range_color=(group_year[\"Transaction_count\"].min(),group_year[\"Transaction_count\"].max()),\n",
    "                            hover_name=\"States\", title= f\"{YR} TRANSACTION COUNT\",fitbounds=\"locations\")\n",
    "    fig_geo_count.update_geos(visible= False)\n",
    "    fig_geo_count.show()\n",
    "    \n",
    "\n",
    "    fig_geo_amount=px.choropleth(group_year, geojson=coordinate, locations=\"States\",featureidkey=\"properties.ST_NM\",\n",
    "                            color=\"Transaction_amount\",color_continuous_scale=\"ylorrd\",height=500,width=500,\n",
    "                            range_color=(group_year[\"Transaction_amount\"].min(),group_year[\"Transaction_amount\"].max()),\n",
    "                            hover_name=\"States\", title= f\"{YR} TRANSACTION AMOUNT\",fitbounds=\"locations\")\n",
    "    fig_geo_amount.update_geos(visible= False)\n",
    "    fig_geo_amount.show()\n",
    "    \n",
    "    return year"
   ]
  },
  {
   "cell_type": "markdown",
   "metadata": {},
   "source": [
    "SORTED TRANSACTION COUNT AND AMOUNT GROUPED BY QUARTER"
   ]
  },
  {
   "cell_type": "code",
   "execution_count": 35,
   "metadata": {},
   "outputs": [],
   "source": [
    "def TX_count_amount_Q(DF, Q):    \n",
    "    year=DF[DF[\"Quaters\"]==Q]\n",
    "    year.reset_index(drop= True, inplace = True)\n",
    "\n",
    "    group_year=year.groupby(\"States\")[[\"Transaction_count\",\"Transaction_amount\"]].sum()\n",
    "    group_year.reset_index(inplace = True)\n",
    "\n",
    "\n",
    "    fig_count= px.bar(group_year, x=\"States\", y=\"Transaction_count\", title=f\"YEAR {Q} QUATER TRANSACTION COUNT\",\n",
    "                        color_discrete_sequence=px.colors.sequential.Bluyl_r,height=600, width=600)\n",
    "    fig_count.show()\n",
    "\n",
    "\n",
    "\n",
    "    fig_amount= px.bar(group_year, x=\"States\", y=\"Transaction_amount\", title=f\"YEAR {Q} QUATER TRANSACTION AMOUNT\",\n",
    "                    color_discrete_sequence=px.colors.sequential.Reds, height=600, width=600)\n",
    "    fig_amount.show()\n",
    "\n",
    "    url=\"https://gist.githubusercontent.com/jbrobst/56c13bbbf9d97d187fea01ca62ea5112/raw/e388c4cae20aa53cb5090210a42ebb9b765c0a36/india_states.geojson\"\n",
    "    data = requests.get(url)\n",
    "    coordinate=json.loads(data.content)\n",
    "    state_names=[]\n",
    "    for i in coordinate[\"features\"]:\n",
    "        A=i[\"properties\"][\"ST_NM\"]\n",
    "        state_names.append(A)\n",
    "\n",
    "    state_names.sort()\n",
    "\n",
    "    fig_geo_count=px.choropleth(group_year, geojson=coordinate, locations=\"States\",featureidkey=\"properties.ST_NM\",\n",
    "                            color=\"Transaction_count\",color_continuous_scale=\"Tealgrn\",height=600,width=600,\n",
    "                            range_color=(group_year[\"Transaction_count\"].min(),group_year[\"Transaction_count\"].max()),\n",
    "                            hover_name=\"States\", title= f\"YEAR {Q} QUATER TRANSACTION COUNT\",fitbounds=\"locations\")\n",
    "    fig_geo_count.update_geos(visible= False)\n",
    "    fig_geo_count.show()\n",
    "\n",
    "\n",
    "\n",
    "    fig_geo_amount=px.choropleth(group_year, geojson=coordinate, locations=\"States\",featureidkey=\"properties.ST_NM\",\n",
    "                            color=\"Transaction_amount\",color_continuous_scale=\"solar\",height=500,width=500,\n",
    "                            range_color=(group_year[\"Transaction_amount\"].min(),group_year[\"Transaction_amount\"].max()),\n",
    "                            hover_name=\"States\", title= f\"YEAR {Q} QUATER TRANSACTION AMOUNT\",fitbounds=\"locations\")\n",
    "    fig_geo_amount.update_geos(visible= False)\n",
    "    fig_geo_amount.show()\n",
    "    \n",
    "    return year\n"
   ]
  },
  {
   "cell_type": "markdown",
   "metadata": {},
   "source": [
    "AGGRATED DATA FUNCTIONS"
   ]
  },
  {
   "cell_type": "markdown",
   "metadata": {},
   "source": [
    "TRANSACTION"
   ]
  },
  {
   "cell_type": "code",
   "execution_count": 36,
   "metadata": {},
   "outputs": [],
   "source": [
    "def agg_txtype(DF,state):\n",
    "\n",
    "    year=DF[DF[\"States\"]== state]\n",
    "    year.reset_index(drop= True, inplace = True)\n",
    "\n",
    "    group_year=year.groupby(\"States\")[[\"Transaction_count\",\"Transaction_amount\"]].sum()\n",
    "    group_year.reset_index(inplace = True)\n",
    "\n",
    "\n",
    "    figpie_count=px.pie(data_frame=group_year,names=\"Transaction_type\", values=\"Transaction_count\",title=f\"{state.upper()} TRANSACTION COUNT\",\n",
    "                    color_discrete_sequence=px.colors.sequential.Bluyl_r, hole= 0.1, width=600)\n",
    "    # fig_count= px.bar(group_year, x=\"Transaction_type\", y=\"Transaction_count\", title=\"TRANSACTION COUNT\",\n",
    "    #                     color_discrete_sequence=px.colors.sequential.Bluyl_r,height=700, width=600)\n",
    "    figpie_count.show()\n",
    "\n",
    "\n",
    "    figpie_amount=px.pie(data_frame=group_year,names=\"Transaction_type\", values=\"Transaction_amount\",title=f\"{state.upper()}TRANSACTION AMOUNT\",\n",
    "                    color_discrete_sequence=px.colors.sequential.Agsunset_r,hole= 0.1, width=600)\n",
    "    # fig_amount= px.bar(group_year, x=\"Transaction_type\", y=\"Transaction_amount\", title=\"TRANSACTION AMOUNT\",\n",
    "    #                 color_discrete_sequence=px.colors.sequential.Agsunset_r, height=700, width=600)\n",
    "    figpie_amount.show()"
   ]
  },
  {
   "cell_type": "code",
   "execution_count": null,
   "metadata": {},
   "outputs": [],
   "source": [
    "AGGTX_Y_DATA= TX_count_amount(AGG_TX_DF,YR)"
   ]
  },
  {
   "cell_type": "code",
   "execution_count": null,
   "metadata": {},
   "outputs": [],
   "source": [
    "agg_txtype(AGGTX_Y_DATA,state) "
   ]
  },
  {
   "cell_type": "code",
   "execution_count": null,
   "metadata": {},
   "outputs": [],
   "source": [
    "AGGTX_Y_Q_DATA=TX_count_amount_Q(AGGTX_Y_DATA,Quat)"
   ]
  },
  {
   "cell_type": "code",
   "execution_count": null,
   "metadata": {},
   "outputs": [],
   "source": [
    "agg_txtype(AGGTX_Y_Q_DATA,state) "
   ]
  },
  {
   "cell_type": "markdown",
   "metadata": {},
   "source": [
    "USER"
   ]
  },
  {
   "cell_type": "code",
   "execution_count": null,
   "metadata": {},
   "outputs": [],
   "source": [
    "def aggusbra(DF,YR):\n",
    "\n",
    "    year=DF[DF[\"Years\"]==YR]\n",
    "    year.reset_index(drop= True, inplace = True)\n",
    "\n",
    "    group_year=year.groupby(\"Brands\")[[ \"Transaction_count\",\"Percentage\"]].sum()\n",
    "    group_year.reset_index(inplace = True)\n",
    "\n",
    "\n",
    "    # figpie_count=px.pie(data_frame=group_year,names=\"Brands\", values=\"Transaction_count\",title= \"TRANSACTION COUNT\",\n",
    "    #                 color_discrete_sequence=px.colors.sequential.Blackbody, hole= 0.1, width=600)\n",
    "    fig_count= px.bar(group_year, x=\"Brands\", y=\"Transaction_count\", title=f\"{YR} TRANSACTION COUNT\",\n",
    "                        color_discrete_sequence=px.colors.sequential.Blackbody_r, width=800)\n",
    "    fig_count.show()\n",
    "\n",
    "\n",
    "    # figpie_amount=px.pie(data_frame=group_year,names=\"Brands\", values=\"Percentage\",title=\"PERCENTAGE\",\n",
    "    #                 color_discrete_sequence=px.colors.sequential.Rainbow,hole= 0.1, width=800)\n",
    "    fig_amount= px.bar(group_year, x=\"Brands\", y=\"Percentage\", title=f\"{YR} PERCENTAGE\",\n",
    "                    color_discrete_sequence=px.colors.sequential.Rainbow, width=800)\n",
    "    fig_amount.show()\n",
    "\n",
    "    return year"
   ]
  },
  {
   "cell_type": "code",
   "execution_count": null,
   "metadata": {},
   "outputs": [],
   "source": [
    "def Agguser_yr_b(DF,state):\n",
    "    year=DF[DF[\"States\"]==state]\n",
    "    year.reset_index(drop= True, inplace = True)\n",
    "\n",
    "    group_year=year.groupby([\"Brands\", \"Quaters\"])[[ \"Transaction_count\"]].sum()\n",
    "    group_year.reset_index(inplace = True)\n",
    "\n",
    "    fig_count= px.bar(year, x=\"Brands\", y=\"Transaction_count\", title=f\"{year[\"Years\"].min()} YEAR {state.upper()} Transaction Count\",\n",
    "                            color_continuous_scale=px.colors.sequential.tempo_r, height=800,width=1000, hover_name=\"Quaters\")  \n",
    "\n",
    "    st.plotly_chart(fig_count)\n",
    "    return year"
   ]
  },
  {
   "cell_type": "code",
   "execution_count": null,
   "metadata": {},
   "outputs": [],
   "source": [
    "AGGUSYEAR=aggusbra(AGG_US_DF,YR)"
   ]
  },
  {
   "cell_type": "code",
   "execution_count": null,
   "metadata": {},
   "outputs": [],
   "source": [
    "AGGUSY_Q_S=Agguser_yr_b(AGGUSYEAR,state)"
   ]
  },
  {
   "cell_type": "markdown",
   "metadata": {},
   "source": [
    "INSURANCE"
   ]
  },
  {
   "cell_type": "code",
   "execution_count": null,
   "metadata": {},
   "outputs": [],
   "source": [
    "AGGINSDATA= TX_count_amount(AGG_INS_DF,YR)"
   ]
  },
  {
   "cell_type": "code",
   "execution_count": null,
   "metadata": {},
   "outputs": [],
   "source": [
    "TX_count_amount_Q(AGGINSDATA,Quat)"
   ]
  },
  {
   "cell_type": "markdown",
   "metadata": {},
   "source": [
    "MAP DATA FUNCTIONS"
   ]
  },
  {
   "cell_type": "markdown",
   "metadata": {},
   "source": [
    "TRANSACTION"
   ]
  },
  {
   "cell_type": "code",
   "execution_count": null,
   "metadata": {},
   "outputs": [],
   "source": [
    "MAPTXDATA_Y= TX_count_amount(MAP_TX_DF,YR)"
   ]
  },
  {
   "cell_type": "code",
   "execution_count": null,
   "metadata": {},
   "outputs": [],
   "source": [
    "Mapins_yr_dis(MAPTXDATA_Y,state)"
   ]
  },
  {
   "cell_type": "code",
   "execution_count": null,
   "metadata": {},
   "outputs": [],
   "source": [
    "MAPTXDATA_Y_Q= TX_count_amount_Q(MAPTXDATA_Y,Quat)"
   ]
  },
  {
   "cell_type": "code",
   "execution_count": null,
   "metadata": {},
   "outputs": [],
   "source": [
    "Mapins_yr_dis(MAPTXDATA_Y_Q,state) "
   ]
  },
  {
   "cell_type": "markdown",
   "metadata": {},
   "source": [
    "USER"
   ]
  },
  {
   "cell_type": "code",
   "execution_count": null,
   "metadata": {},
   "outputs": [],
   "source": [
    "def Mapuser(DF,YR):\n",
    "    year=DF[DF[\"Years\"]==YR]\n",
    "    year.reset_index(drop= True, inplace = True)\n",
    "\n",
    "    group_year=year.groupby(\"States\")[[ \"Registered_Users\",\"App_Opens\"]].sum()\n",
    "    group_year.reset_index(inplace = True)\n",
    "\n",
    "    fig_count= px.line(group_year, x=\"States\", y=[\"Registered_Users\",\"App_Opens\"], title=f\"{YR} REGISTERED USERS\",\n",
    "                        markers= True)\n",
    "    fig_count.show()\n",
    "\n",
    "    return year"
   ]
  },
  {
   "cell_type": "code",
   "execution_count": null,
   "metadata": {},
   "outputs": [],
   "source": [
    "def Mapuser_Q(DF,Q):\n",
    "    year=DF[DF[\"Quaters\"]==Q]\n",
    "    year.reset_index(drop= True, inplace = True)\n",
    "\n",
    "    group_year=year.groupby(\"States\")[[ \"Registered_Users\",\"App_Opens\"]].sum()\n",
    "    group_year.reset_index(inplace = True)\n",
    "\n",
    "    fig_count= px.line(group_year, x=\"States\", y=[\"Registered_Users\",\"App_Opens\"], title=f\"{year[\"Years\"].unique()} YEAR {Q} QUATER REGISTERED USERS & APP OPENS\",\n",
    "                        markers= True)\n",
    "    fig_count.show()\n",
    "\n",
    "    return year"
   ]
  },
  {
   "cell_type": "code",
   "execution_count": null,
   "metadata": {},
   "outputs": [],
   "source": [
    "def MapuserY_Q_S(DF,State):\n",
    "    year=DF[DF[\"States\"]==State]\n",
    "    year.reset_index(drop= True, inplace = True)\n",
    "\n",
    "\n",
    "    fig_rig= px.bar(year, x=\"Registered_Users\", y=\"Districts\", title=f\"{year[\"Years\"].min()} YEAR {year[\"Quaters\"].min()} QUATER {State.upper()} REGISTERED USERS\",\n",
    "                        color_discrete_sequence=px.colors.sequential.tempo_r, height=800)\n",
    "    fig_rig.show()\n",
    "    \n",
    "    fig_apps= px.bar(year, x=\"App_Opens\", y=\"Districts\", title=f\"{year[\"Years\"].min()} YEAR {year[\"Quaters\"].min()} QUATER {State.upper()} App_Opens\",\n",
    "                        color_discrete_sequence=px.colors.sequential.Redor, height=800)\n",
    "    fig_apps.show()\n",
    "    \n",
    "    return year"
   ]
  },
  {
   "cell_type": "code",
   "execution_count": null,
   "metadata": {},
   "outputs": [],
   "source": [
    "MAPUSERDATA_Y= Mapuser(MAP_US_DF,YR)"
   ]
  },
  {
   "cell_type": "code",
   "execution_count": null,
   "metadata": {},
   "outputs": [],
   "source": [
    "MAPUSERDATA_Y_Q= Mapuser_Q(MAPUSERDATA_Y, Quat)"
   ]
  },
  {
   "cell_type": "code",
   "execution_count": null,
   "metadata": {},
   "outputs": [],
   "source": [
    "MapuserY_Q_S(MAPUSERDATA_Y_Q,state)"
   ]
  },
  {
   "cell_type": "markdown",
   "metadata": {},
   "source": [
    "INSURANCE"
   ]
  },
  {
   "cell_type": "code",
   "execution_count": null,
   "metadata": {},
   "outputs": [],
   "source": [
    "def Mapins_yr_dis(DF,Dis):\n",
    "\n",
    "    year=DF[DF[\"States\"]== Dis]\n",
    "    year.reset_index(drop= True, inplace = True)\n",
    "\n",
    "    group_year=year.groupby(\"Districts\")[[\"Transaction_count\",\"Transaction_amount\"]].sum()\n",
    "    group_year.reset_index(inplace = True)\n",
    "\n",
    "    fig_count= px.bar(group_year, x=\"Transaction_count\", y=\"Districts\",orientation=\"h\", title=f\"{Dis.upper()} DISTRICT & TRANSACTION COUNT\",\n",
    "                            color_discrete_sequence=px.colors.sequential.Mint_r)\n",
    "    fig_count.show()\n",
    "\n",
    "\n",
    "    fig_amount= px.bar(group_year, x=\"Transaction_amount\", y=\"Districts\",orientation=\"h\", title=f\"{Dis.upper()} DISTRICT & TRANSACTION AMOUNT\",\n",
    "                            color_discrete_sequence=px.colors.sequential.Cividis)\n",
    "    fig_amount.show()\n",
    "    \n",
    "    return year"
   ]
  },
  {
   "cell_type": "code",
   "execution_count": null,
   "metadata": {},
   "outputs": [],
   "source": [
    "MAPINSDATA_Y= TX_count_amount(MAP_INS_DF,YR)"
   ]
  },
  {
   "cell_type": "code",
   "execution_count": null,
   "metadata": {},
   "outputs": [],
   "source": [
    "Mapins_yr_dis(MAPINSDATA_Y,state)"
   ]
  },
  {
   "cell_type": "code",
   "execution_count": null,
   "metadata": {},
   "outputs": [],
   "source": [
    "MAPINSDATA_Y_Q= TX_count_amount_Q(MAPINSDATA_Y,Quat)"
   ]
  },
  {
   "cell_type": "code",
   "execution_count": null,
   "metadata": {},
   "outputs": [],
   "source": [
    "Mapins_yr_dis(MAPINSDATA_Y_Q,state) "
   ]
  },
  {
   "cell_type": "markdown",
   "metadata": {},
   "source": [
    "TOP DATA FUNCTIONS"
   ]
  },
  {
   "cell_type": "markdown",
   "metadata": {},
   "source": [
    "INSURANCE"
   ]
  },
  {
   "cell_type": "code",
   "execution_count": null,
   "metadata": {},
   "outputs": [],
   "source": [
    "def Topins_yr_pin(DF,state):\n",
    "\n",
    "    year=DF[DF[\"States\"]==state]\n",
    "    year.reset_index(drop= True, inplace = True)\n",
    "\n",
    "    col1, col2= st.columns(2)\n",
    "    with col1:\n",
    "        fig_count= px.bar(year, x=\"Quaters\", y=\"Transaction_count\", title=f\"{year[\"Years\"].min()} YEAR  TRANSACTION COUNT & PINCODES \",\n",
    "                        color_discrete_sequence=px.colors.sequential.tempo_r, hover_name=\"Pincodes\",width= 600)  \n",
    "\n",
    "        st.plotly_chart(fig_count)\n",
    "    with col2:\n",
    "\n",
    "        fig_amount= px.bar(year, x=\"Quaters\", y=\"Transaction_amount\", title=f\"{year[\"Years\"].min()} YEAR  TRANSACTION AMOUNT & PINCODES \",\n",
    "                        color_discrete_sequence=px.colors.sequential.Electric_r ,hover_name=\"Pincodes\",width= 600)  \n",
    "\n",
    "        st.plotly_chart(fig_amount)"
   ]
  },
  {
   "cell_type": "code",
   "execution_count": null,
   "metadata": {},
   "outputs": [],
   "source": [
    "TOPINSDATA_Y= TX_count_amount(TOP_INS_DF,YR)"
   ]
  },
  {
   "cell_type": "code",
   "execution_count": null,
   "metadata": {},
   "outputs": [],
   "source": [
    "TOPINSDATA_Y_PIN= Topins_yr_pin(TOPINSDATA_Y,state) "
   ]
  },
  {
   "cell_type": "code",
   "execution_count": null,
   "metadata": {},
   "outputs": [],
   "source": [
    "TOPINSDATA_Y_Q=TX_count_amount_Q(TOPINSDATA_Y,Quat)"
   ]
  },
  {
   "cell_type": "markdown",
   "metadata": {},
   "source": [
    "USER"
   ]
  },
  {
   "cell_type": "code",
   "execution_count": null,
   "metadata": {},
   "outputs": [],
   "source": [
    "def Topuser_yr(DF,YR):\n",
    "\n",
    "    year=DF[DF[\"Years\"]==YR]\n",
    "    year.reset_index(drop= True, inplace = True)\n",
    "\n",
    "    group_year=year.groupby([\"States\", \"Quaters\"])[[ \"Registered_Users\"]].sum()\n",
    "    group_year.reset_index(inplace = True)\n",
    "\n",
    "    fig_count= px.bar(group_year, x=\"States\", y=\"Registered_Users\",hover_name=\"States\", title=f\"{YR} REGISTERED USERS\",color=\"Quaters\",\n",
    "                       color_discrete_sequence=px.colors.sequential.Emrld_r,height=800, width= 1100)\n",
    "\n",
    "    st.plotly_chart(fig_count)\n",
    "\n",
    "    return year"
   ]
  },
  {
   "cell_type": "code",
   "execution_count": null,
   "metadata": {},
   "outputs": [],
   "source": [
    "TOPUSDATA_Y_S_Q=Topuser_yr(TOP_US_DF,YR)"
   ]
  },
  {
   "cell_type": "code",
   "execution_count": null,
   "metadata": {},
   "outputs": [],
   "source": [
    "Topuser_yr_pin(TOPUSDATA_Y_S_Q,state)"
   ]
  },
  {
   "cell_type": "markdown",
   "metadata": {},
   "source": [
    "TRANSACTION"
   ]
  },
  {
   "cell_type": "code",
   "execution_count": null,
   "metadata": {},
   "outputs": [],
   "source": [
    "def Topuser_yr_pin(DF,state):\n",
    "    year=DF[DF[\"States\"]==state]\n",
    "    year.reset_index(drop= True, inplace = True)\n",
    "\n",
    "    fig_count= px.bar(year, x=\"Quaters\", y=\"Registered_Users\", title=f\"{year[\"Years\"].min()} YEAR {state.upper()} REGISTERED USERS & PINCODES\",\n",
    "                            color_continuous_scale=px.colors.sequential.tempo_r, width=1000, hover_name=\"Pincodes\")  \n",
    "\n",
    "    st.plotly_chart(fig_count)\n",
    "    return year"
   ]
  },
  {
   "cell_type": "code",
   "execution_count": null,
   "metadata": {},
   "outputs": [],
   "source": [
    "TOPTXDATA_Y= TX_count_amount(TOP_TX_DF,YR)"
   ]
  },
  {
   "cell_type": "code",
   "execution_count": null,
   "metadata": {},
   "outputs": [],
   "source": [
    "Topins_yr_pin(TOPTXDATA_Y,state)"
   ]
  },
  {
   "cell_type": "code",
   "execution_count": null,
   "metadata": {},
   "outputs": [],
   "source": [
    "TOPINSDATA_Y_Q= TX_count_amount_Q(TOPTXDATA_Y,Quat)"
   ]
  },
  {
   "cell_type": "markdown",
   "metadata": {},
   "source": [
    "QUESTIONS"
   ]
  },
  {
   "cell_type": "code",
   "execution_count": null,
   "metadata": {},
   "outputs": [],
   "source": [
    "#query1 Top 10 states With Highest Trasaction Amount',\n",
    "myconnection = pymysql.connect(host = '127.0.0.1',user='root',passwd='root',database = \"phonepe\",port=3306)\n",
    "cur = myconnection.cursor()\n",
    "\n",
    "Query1 = '''select States, sum(Transaction_amount) as Transaction_Amount from agg_tx group by States order by Transaction_Amount desc limit 10;'''\n",
    "cur.execute(Query1)\n",
    "myconnection.commit()\n",
    "F1=cur.fetchall()\n",
    "\n",
    "DF1 = pd.DataFrame(F1,columns = [\"States\", \"Transaction_Amount\"])\n",
    "\n",
    "fig_count= px.bar(DF1, x=\"States\", y=\"Transaction_Amount\", title=\"Highest Trasaction Amount\",\n",
    "                            color_continuous_scale=px.colors.sequential.deep_r, height=600, hover_name=\"States\")  \n",
    "\n",
    "fig_count.show()"
   ]
  },
  {
   "cell_type": "code",
   "execution_count": null,
   "metadata": {},
   "outputs": [],
   "source": [
    "figpie_amount=px.pie(data_frame=DF1,names=\"States\", values=\"Transaction_Amount\",title=\"TRANSACTION AMOUNT\",\n",
    "                        hole= 0.1, width=600, )\n",
    "figpie_amount.show() "
   ]
  },
  {
   "cell_type": "code",
   "execution_count": null,
   "metadata": {},
   "outputs": [],
   "source": [
    "#query2 Top 10 states With Lowest Trasaction Amount',\n",
    "myconnection = pymysql.connect(host = '127.0.0.1',user='root',passwd='root',database = \"phonepe\",port=3306)\n",
    "cur = myconnection.cursor()\n",
    "\n",
    "Query2 = '''select States, sum(Transaction_amount) as Transaction_Amount from agg_tx group by States order by Transaction_Amount asc limit 10;'''\n",
    "cur.execute(Query2)\n",
    "myconnection.commit()\n",
    "F2=cur.fetchall()\n",
    "\n",
    "DF2 = pd.DataFrame(F2,columns = [\"States\", \"Transaction_Amount\"])\n",
    "\n",
    "fig_count= px.bar(DF2, x=\"States\", y=\"Transaction_Amount\", title=\"Lowest Trasaction Amount\",\n",
    "                            color_continuous_scale=px.colors.sequential.deep_r, height=600, hover_name=\"States\")  \n",
    "\n",
    "fig_count.show()"
   ]
  },
  {
   "cell_type": "code",
   "execution_count": null,
   "metadata": {},
   "outputs": [],
   "source": [
    "#query3 Top 10 mobile brands with Highest transaction count\n",
    "\n",
    "myconnection = pymysql.connect(host = '127.0.0.1',user='root',passwd='root',database = \"phonepe\",port=3306)\n",
    "cur = myconnection.cursor()\n",
    "\n",
    "Query3 = '''select Brands, sum(Transaction_count) as Transaction_Count  from agg_us group by Brands order by Transaction_Count desc limit 10;'''\n",
    "cur.execute(Query3)\n",
    "myconnection.commit()\n",
    "F3=cur.fetchall()\n",
    "\n",
    "DF3 = pd.DataFrame(F3,columns = [\"Brands\", \"Transaction_Count\"])\n",
    "\n",
    "fig_count= px.bar(DF3, x=\"Brands\", y=\"Transaction_Count\", title=\"Highest Trasaction count\",\n",
    "                            color_continuous_scale=px.colors.sequential.deep_r, height=600, hover_name=\"Brands\")  \n",
    "\n",
    "fig_count.show()"
   ]
  },
  {
   "cell_type": "code",
   "execution_count": null,
   "metadata": {},
   "outputs": [],
   "source": [
    "#query4 Top 10 mobile brands with lowest transaction count\n",
    "\n",
    "myconnection = pymysql.connect(host = '127.0.0.1',user='root',passwd='root',database = \"phonepe\",port=3306)\n",
    "cur = myconnection.cursor()\n",
    "\n",
    "Query4 = '''select Brands, sum(Transaction_count) as Transaction_Count  from agg_us group by Brands order by Transaction_Count asc limit 10; '''\n",
    "cur.execute(Query4)\n",
    "myconnection.commit()\n",
    "F4=cur.fetchall()\n",
    "\n",
    "DF4 = pd.DataFrame(F4,columns = [\"Brands\", \"Transaction_Count\"])\n",
    "\n",
    "fig_count= px.bar(DF4, x=\"Brands\", y=\"Transaction_Count\", title=\"Lowest Trasaction count\",\n",
    "                            color_continuous_scale=px.colors.sequential.deep_r, height=600, hover_name=\"Brands\")  \n",
    "\n",
    "fig_count.show()"
   ]
  },
  {
   "cell_type": "code",
   "execution_count": null,
   "metadata": {},
   "outputs": [],
   "source": [
    "#query5 Top 10 Registered-users based on District:\n",
    "\n",
    "myconnection = pymysql.connect(host = '127.0.0.1',user='root',passwd='root',database = \"phonepe\",port=3306)\n",
    "cur = myconnection.cursor()\n",
    "\n",
    "Query5 = '''select States, Districts,  Registered_Users from map_user group by Districts order by Registered_Users desc limit 10;'''\n",
    "cur.execute(Query5)\n",
    "myconnection.commit()\n",
    "F5=cur.fetchall()\n",
    "\n",
    "DF5 = pd.DataFrame(F5,columns = [\"States\", \"Districts\", \"Registered_Users\"])\n",
    "\n",
    "fig_count= px.line(DF5, x=\"Districts\", y=\"Registered_Users\", title=\"REGISTERED USERS\", orientation=\"h\",\n",
    "                             height=600, hover_name=\"States\", markers= True)  \n",
    "\n",
    "fig_count.show()\n"
   ]
  },
  {
   "cell_type": "code",
   "execution_count": null,
   "metadata": {},
   "outputs": [],
   "source": [
    "#Query 6 Top 10 Districts based on states with highest amount of transaction\n",
    "myconnection = pymysql.connect(host = '127.0.0.1',user='root',passwd='root',database = \"phonepe\",port=3306)\n",
    "cur = myconnection.cursor()\n",
    "\n",
    "Query6 = '''select States, Districts, sum(Transaction_amount) as Transaction_Amount from map_tx group by Districts order by Transaction_Amount desc limit 10;'''\n",
    "cur.execute(Query6)\n",
    "myconnection.commit()\n",
    "F6=cur.fetchall()\n",
    "\n",
    "DF6 = pd.DataFrame(F6,columns = [\"States\", \"Districts\", \"Transaction_Amount\"])\n",
    "\n",
    "fig_count= px.bar(DF6, x=\"Districts\", y=\"Transaction_Amount\", title=\"Transaction_Amount by District\", orientation=\"v\",\n",
    "                             height=600, hover_name=\"States\")  \n",
    "\n",
    "fig_count.show()"
   ]
  },
  {
   "cell_type": "code",
   "execution_count": null,
   "metadata": {},
   "outputs": [],
   "source": [
    "#Query 7 Top 10 Districts based on states with Lowest amount of transaction\n",
    "myconnection = pymysql.connect(host = '127.0.0.1',user='root',passwd='root',database = \"phonepe\",port=3306)\n",
    "cur = myconnection.cursor()\n",
    "\n",
    "Query7 = '''select States, Districts, sum(Transaction_amount) as Transaction_Amount from map_tx group by Districts order by Transaction_Amount asc limit 10;'''\n",
    "cur.execute(Query7)\n",
    "myconnection.commit()\n",
    "F7=cur.fetchall()\n",
    "\n",
    "DF7 = pd.DataFrame(F7,columns = [\"States\", \"Districts\", \"Transaction_Amount\"])\n",
    "\n",
    "fig_count= px.bar(DF7, x=\"Districts\", y=\"Transaction_Amount\", title=\"Transaction_Amount by District\", orientation=\"v\",\n",
    "                             height=600, hover_name=\"States\")  \n",
    "\n",
    "fig_count.show()"
   ]
  },
  {
   "cell_type": "code",
   "execution_count": null,
   "metadata": {},
   "outputs": [],
   "source": [
    "#query8 Top 10 States based on Districts with Highest amount of APP OPENS:\n",
    "\n",
    "myconnection = pymysql.connect(host = '127.0.0.1',user='root',passwd='root',database = \"phonepe\",port=3306)\n",
    "cur = myconnection.cursor()\n",
    "\n",
    "Query8 = '''select States, Districts, sum(App_Opens) as APP_OPENS from map_user group by States order by APP_OPENS desc limit 10;'''\n",
    "cur.execute(Query8)\n",
    "myconnection.commit()\n",
    "F8=cur.fetchall()\n",
    "\n",
    "DF8 = pd.DataFrame(F8,columns = [\"States\", \"Districts\", \"APP_OPENS\"])\n",
    "\n",
    "fig_count= px.line(DF8, x=\"States\", y=\"APP_OPENS\", title=\"APP OPENS\", orientation=\"h\",\n",
    "                             height=600, hover_name=\"Districts\", markers= True)  \n",
    "\n",
    "fig_count.show()"
   ]
  },
  {
   "cell_type": "code",
   "execution_count": null,
   "metadata": {},
   "outputs": [],
   "source": [
    "#query9 Top 10 States based on Districts with Lowest amount of APP OPENS:\n",
    "\n",
    "myconnection = pymysql.connect(host = '127.0.0.1',user='root',passwd='root',database = \"phonepe\",port=3306)\n",
    "cur = myconnection.cursor()\n",
    "\n",
    "Query9 = '''select States, Districts, sum(App_Opens) as APP_OPENS from map_user group by States order by APP_OPENS asc limit 10;'''\n",
    "cur.execute(Query9)\n",
    "myconnection.commit()\n",
    "F9=cur.fetchall()\n",
    "\n",
    "DF9 = pd.DataFrame(F9,columns = [\"States\", \"Districts\", \"APP_OPENS\"])\n",
    "\n",
    "fig_count= px.bar(DF9, x=\"States\", y=\"APP_OPENS\", title=\"APP OPENS\",\n",
    "                             height=600, hover_name=\"Districts\")  \n",
    "\n",
    "fig_count.show()"
   ]
  },
  {
   "cell_type": "code",
   "execution_count": null,
   "metadata": {},
   "outputs": [],
   "source": [
    "#query10 plot a bar chart with all the pincodes based on transaction amount by each states:\n",
    "\n",
    "myconnection = pymysql.connect(host = '127.0.0.1',user='root',passwd='root',database = \"phonepe\",port=3306)\n",
    "cur = myconnection.cursor()\n",
    "\n",
    "Query10 = '''select States, Pincodes, sum(Transaction_amount) as Transaction_Amount from top_ins group by Pincodes'''\n",
    "cur.execute(Query10)\n",
    "myconnection.commit()\n",
    "F10=cur.fetchall()\n",
    "\n",
    "DF10 = pd.DataFrame(F10,columns = [\"States\", \"Pincodes\", \"Transaction_Amount\"])\n",
    "\n",
    "fig_count= px.bar(DF10, x=\"States\", y=\"Transaction_Amount\", title=\"Pincodes\",\n",
    "                             height=600, hover_name=\"Pincodes\")  \n",
    "\n",
    "fig_count.show()"
   ]
  },
  {
   "cell_type": "code",
   "execution_count": null,
   "metadata": {},
   "outputs": [],
   "source": []
  },
  {
   "cell_type": "code",
   "execution_count": null,
   "metadata": {},
   "outputs": [],
   "source": []
  }
 ],
 "metadata": {
  "kernelspec": {
   "display_name": ".venv",
   "language": "python",
   "name": "python3"
  },
  "language_info": {
   "codemirror_mode": {
    "name": "ipython",
    "version": 3
   },
   "file_extension": ".py",
   "mimetype": "text/x-python",
   "name": "python",
   "nbconvert_exporter": "python",
   "pygments_lexer": "ipython3",
   "version": "3.12.1"
  }
 },
 "nbformat": 4,
 "nbformat_minor": 2
}
